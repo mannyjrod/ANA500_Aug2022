{
 "cells": [
  {
   "cell_type": "markdown",
   "metadata": {},
   "source": [
    "# Image Classification with Neural Networks\n",
    "\n",
    "Reference: https://keras.io/examples/vision/image_classification_from_scratch/"
   ]
  },
  {
   "cell_type": "markdown",
   "metadata": {},
   "source": [
    "## Author: Emmanuel Rodriguez\n",
    "\n",
    "Date: 22 Aug 2022\n",
    "\n",
    "Location: Seattle, WA"
   ]
  },
  {
   "cell_type": "markdown",
   "metadata": {},
   "source": [
    "## 1. Acquire"
   ]
  },
  {
   "cell_type": "markdown",
   "metadata": {},
   "source": [
    "Import libraries"
   ]
  },
  {
   "cell_type": "code",
   "execution_count": 2,
   "metadata": {},
   "outputs": [],
   "source": [
    "import tensorflow as tf # library that gives the capability to manipulate mathematical expressions over numerical tensors.\n",
    "from tensorflow import keras # keras is a deep learning API, built on top of tensorflow\n",
    "from tensorflow.keras import layers"
   ]
  },
  {
   "cell_type": "markdown",
   "metadata": {},
   "source": [
    "Load data\n",
    "\n",
    "Cats vs dogs dataset from Kaggle\n",
    "\n",
    "Source: https://www.kaggle.com/datasets/karakaggle/kaggle-cat-vs-dog-dataset"
   ]
  },
  {
   "cell_type": "code",
   "execution_count": 10,
   "metadata": {},
   "outputs": [],
   "source": [
    "#!curl -O https://download.microsoft.com/download/3/E/1/3E1C3F21-ECDB-4869-8368-6DEBA77B919F/kagglecatsanddogs_3367a.zip\n",
    "\n",
    "# client URL, command line tool for transferring data using various network protocols\n",
    "\n",
    "# Not quite working"
   ]
  },
  {
   "cell_type": "code",
   "execution_count": 11,
   "metadata": {},
   "outputs": [],
   "source": [
    "#!unzip -q kagglecatsanddogs_3367a.zip\n",
    "#!ls\n",
    "\n",
    "# Goes with above code block"
   ]
  },
  {
   "attachments": {},
   "cell_type": "markdown",
   "metadata": {},
   "source": [
    "## Running the command prompt in Jupyter\n",
    "\n",
    "% is provided by the ipython kernel and allows you to run \"magic commands\", many of which include well-known shell commands\n",
    "\n",
    "! is provided by jupyter, and allows shell commands to be run within cells!\n",
    "\n",
    "https://stackoverflow.com/questions/45784499/what-is-the-difference-between-and-in-jupyter-notebooks"
   ]
  },
  {
   "cell_type": "code",
   "execution_count": 20,
   "metadata": {},
   "outputs": [
    {
     "name": "stdout",
     "output_type": "stream",
     "text": [
      " Volume in drive C is WINDOWS\n",
      " Volume Serial Number is 9612-5436\n",
      "\n",
      " Directory of C:\\Users\\ejoaq\\OneDrive\\1 My_Notebook\\2 Entrepreneurship and Work\\1 Teaching\\1 National University\\1 ANA 500 - Python for Data Science\\In-Class Tutorials\\Aug_2022\n",
      "\n",
      "08/23/2022  08:43 PM    <DIR>          .\n",
      "08/23/2022  08:43 PM    <DIR>          ..\n",
      "08/23/2022  05:16 PM    <DIR>          .ipynb_checkpoints\n",
      "02/17/2022  01:13 PM           171,621 daily_weather.csv\n",
      "08/23/2022  08:43 PM             5,902 Image_classification_with_NNs.ipynb\n",
      "08/11/2022  06:16 PM            19,765 Intro_Folium_GeographicOverlays_Aug2022.ipynb\n",
      "08/17/2022  06:45 PM            69,820 Intro_MachineLearning_Weather_Classification_Aug2022.ipynb\n",
      "08/04/2022  06:34 PM             1,481 Intro_Notebook_Git.ipynb\n",
      "08/04/2022  07:02 PM            11,662 Intro_Numpy_Pandas.ipynb\n",
      "08/23/2022  08:09 PM    <DIR>          kagglecatsanddogs_3367a\n",
      "08/11/2022  06:14 PM           300,394 plot_data.html\n",
      "08/17/2022  03:44 PM               119 README.md\n",
      "08/11/2022  05:22 PM           252,694 world-countries.json\n",
      "08/11/2022  05:47 PM           252,694 world-countries2.json\n",
      "              10 File(s)      1,086,152 bytes\n",
      "               4 Dir(s)  17,686,761,472 bytes free\n"
     ]
    }
   ],
   "source": [
    "!dir\n",
    "\n",
    "# command prompt command that lists files and folders"
   ]
  },
  {
   "cell_type": "code",
   "execution_count": 21,
   "metadata": {},
   "outputs": [
    {
     "name": "stdout",
     "output_type": "stream",
     "text": [
      " Volume in drive C is WINDOWS\n",
      " Volume Serial Number is 9612-5436\n",
      "\n",
      " Directory of C:\\Users\\ejoaq\\OneDrive\\1 My_Notebook\\2 Entrepreneurship and Work\\1 Teaching\\1 National University\\1 ANA 500 - Python for Data Science\\In-Class Tutorials\\Aug_2022\\kagglecatsanddogs_3367a\n",
      "\n",
      "08/23/2022  08:09 PM    <DIR>          .\n",
      "08/23/2022  08:09 PM    <DIR>          ..\n",
      "08/23/2022  08:09 PM            35,545 MSR-LA - 3467.docx\n",
      "08/23/2022  08:13 PM    <DIR>          PetImages\n",
      "08/23/2022  08:09 PM               104 readme[1].txt\n",
      "               2 File(s)         35,649 bytes\n",
      "               3 Dir(s)  17,680,740,352 bytes free\n"
     ]
    }
   ],
   "source": [
    "!dir kagglecatsanddogs_3367a"
   ]
  },
  {
   "cell_type": "code",
   "execution_count": 30,
   "metadata": {},
   "outputs": [
    {
     "name": "stdout",
     "output_type": "stream",
     "text": [
      " Volume in drive C is WINDOWS\n",
      " Volume Serial Number is 9612-5436\n",
      "\n",
      " Directory of C:\\Users\\ejoaq\\OneDrive\\1 My_Notebook\\2 Entrepreneurship and Work\\1 Teaching\\1 National University\\1 ANA 500 - Python for Data Science\\In-Class Tutorials\\Aug_2022\\kagglecatsanddogs_3367a\\PetImages\n",
      "\n",
      "08/23/2022  08:13 PM    <DIR>          .\n",
      "08/23/2022  08:13 PM    <DIR>          ..\n",
      "08/23/2022  08:13 PM    <DIR>          Cat\n",
      "08/23/2022  08:16 PM    <DIR>          Dog\n",
      "               0 File(s)              0 bytes\n",
      "               4 Dir(s)  17,653,559,296 bytes free\n"
     ]
    }
   ],
   "source": [
    "!dir kagglecatsanddogs_3367a\\PetImages\n",
    "\n",
    "# Files within files"
   ]
  },
  {
   "cell_type": "markdown",
   "metadata": {},
   "source": [
    "### Filter out corrupted images"
   ]
  },
  {
   "cell_type": "code",
   "execution_count": 35,
   "metadata": {},
   "outputs": [],
   "source": [
    "import os # Miscellaneous operating system interfaces\n",
    "\n",
    "# Provides a portable way of using operating system dependent functionality.\n",
    "# Will be used to manipulate filepaths and join files."
   ]
  },
  {
   "cell_type": "markdown",
   "metadata": {},
   "source": [
    "https://docs.python.org/3/library/os.html#module-os"
   ]
  },
  {
   "cell_type": "code",
   "execution_count": 48,
   "metadata": {},
   "outputs": [],
   "source": [
    "num_skipped = 0 # Initialize a counter variable\n",
    "\n",
    "for folder_name1 in (\"PetImages\"):\n",
    "    folder_path = os.path.join(\"kagglecatsanddogs_3367a\", folder_name1) # os.path.join(scandir_path, entry.name)\n",
    "    \n",
    "    \n",
    "### 8/31/22 21:25... continue here, break everything down to the smallest element that you can\n",
    "# manage, then add on to there"
   ]
  },
  {
   "cell_type": "code",
   "execution_count": 46,
   "metadata": {},
   "outputs": [
    {
     "data": {
      "text/plain": [
       "'kagglecatsanddogs_3367a\\\\s'"
      ]
     },
     "execution_count": 46,
     "metadata": {},
     "output_type": "execute_result"
    }
   ],
   "source": [
    "folder_path"
   ]
  },
  {
   "cell_type": "code",
   "execution_count": 49,
   "metadata": {},
   "outputs": [],
   "source": [
    "for folder_name2 in (\"Cat\",\"Dog\"):\n",
    "    for folder_name1 in (\"PetImages\"):\n",
    "        folder_path = os.path.join(\"kagglecatsanddogs_3367a\", folder_name1, folder_name2)"
   ]
  },
  {
   "cell_type": "code",
   "execution_count": 50,
   "metadata": {},
   "outputs": [
    {
     "data": {
      "text/plain": [
       "'kagglecatsanddogs_3367a\\\\s\\\\Dog'"
      ]
     },
     "execution_count": 50,
     "metadata": {},
     "output_type": "execute_result"
    }
   ],
   "source": [
    "folder_path\n",
    "\n",
    "# 1Sep2022 \n",
    "# Why is only Dog showing in the path and what does the 's' mean?"
   ]
  },
  {
   "cell_type": "code",
   "execution_count": 44,
   "metadata": {},
   "outputs": [
    {
     "ename": "FileNotFoundError",
     "evalue": "[WinError 3] The system cannot find the path specified: 'PetImages\\\\P\\\\Cat'",
     "output_type": "error",
     "traceback": [
      "\u001b[1;31m---------------------------------------------------------------------------\u001b[0m",
      "\u001b[1;31mFileNotFoundError\u001b[0m                         Traceback (most recent call last)",
      "\u001b[1;32m<ipython-input-44-0ab23f680a97>\u001b[0m in \u001b[0;36m<module>\u001b[1;34m\u001b[0m\n\u001b[0;32m      6\u001b[0m     \u001b[1;32mfor\u001b[0m \u001b[0mfolder_name2\u001b[0m \u001b[1;32min\u001b[0m \u001b[1;33m(\u001b[0m\u001b[1;34m\"Cat\"\u001b[0m\u001b[1;33m,\u001b[0m \u001b[1;34m\"Dog\"\u001b[0m\u001b[1;33m)\u001b[0m\u001b[1;33m:\u001b[0m\u001b[1;33m\u001b[0m\u001b[1;33m\u001b[0m\u001b[0m\n\u001b[0;32m      7\u001b[0m         \u001b[0mfolder_path\u001b[0m \u001b[1;33m=\u001b[0m \u001b[0mos\u001b[0m\u001b[1;33m.\u001b[0m\u001b[0mpath\u001b[0m\u001b[1;33m.\u001b[0m\u001b[0mjoin\u001b[0m\u001b[1;33m(\u001b[0m\u001b[1;34m\"PetImages\"\u001b[0m\u001b[1;33m,\u001b[0m \u001b[0mfolder_name1\u001b[0m\u001b[1;33m,\u001b[0m \u001b[0mfolder_name2\u001b[0m\u001b[1;33m)\u001b[0m\u001b[1;33m\u001b[0m\u001b[1;33m\u001b[0m\u001b[0m\n\u001b[1;32m----> 8\u001b[1;33m         \u001b[1;32mfor\u001b[0m \u001b[0mfname\u001b[0m \u001b[1;32min\u001b[0m \u001b[0mos\u001b[0m\u001b[1;33m.\u001b[0m\u001b[0mlistdir\u001b[0m\u001b[1;33m(\u001b[0m\u001b[0mfolder_path\u001b[0m\u001b[1;33m)\u001b[0m\u001b[1;33m:\u001b[0m\u001b[1;33m\u001b[0m\u001b[1;33m\u001b[0m\u001b[0m\n\u001b[0m\u001b[0;32m      9\u001b[0m             \u001b[0mfpath\u001b[0m \u001b[1;33m=\u001b[0m \u001b[0mos\u001b[0m\u001b[1;33m.\u001b[0m\u001b[0mpath\u001b[0m\u001b[1;33m.\u001b[0m\u001b[0mjoin\u001b[0m\u001b[1;33m(\u001b[0m\u001b[0mfolder_path\u001b[0m\u001b[1;33m,\u001b[0m \u001b[0mfname\u001b[0m\u001b[1;33m)\u001b[0m\u001b[1;33m\u001b[0m\u001b[1;33m\u001b[0m\u001b[0m\n\u001b[0;32m     10\u001b[0m             \u001b[1;32mtry\u001b[0m\u001b[1;33m:\u001b[0m\u001b[1;33m\u001b[0m\u001b[1;33m\u001b[0m\u001b[0m\n",
      "\u001b[1;31mFileNotFoundError\u001b[0m: [WinError 3] The system cannot find the path specified: 'PetImages\\\\P\\\\Cat'"
     ]
    }
   ],
   "source": [
    "#os?\n",
    "\n",
    "num_skipped = 0 # Initialize a counter variable\n",
    "\n",
    "for folder_name1 in (\"PetImages\"):\n",
    "    for folder_name2 in (\"Cat\", \"Dog\"):\n",
    "        folder_path = os.path.join(\"PetImages\", folder_name1, folder_name2)\n",
    "        for fname in os.listdir(folder_path):\n",
    "            fpath = os.path.join(folder_path, fname)\n",
    "            try:\n",
    "                fobj = open(fpath,\"rb\")\n",
    "                is_jfif = tf.compat.as_bytes(\"JFIF\") in fobj.peek(10)\n",
    "            finally:\n",
    "                fobj.close()\n",
    "            \n",
    "            if not is_jfif:\n",
    "                num_skipped += 1\n",
    "                # Delete corrupted image\n",
    "                os.remove(fpath)\n",
    "                \n",
    "print(\"Deleted %d images\" % num_skipped)"
   ]
  },
  {
   "cell_type": "code",
   "execution_count": null,
   "metadata": {},
   "outputs": [],
   "source": []
  },
  {
   "cell_type": "markdown",
   "metadata": {},
   "source": [
    "## 2. Prepare"
   ]
  },
  {
   "cell_type": "markdown",
   "metadata": {},
   "source": [
    "## 3. Analyze"
   ]
  },
  {
   "cell_type": "markdown",
   "metadata": {},
   "source": [
    "## 4. Report"
   ]
  },
  {
   "cell_type": "markdown",
   "metadata": {},
   "source": [
    "## 5. Act "
   ]
  }
 ],
 "metadata": {
  "kernelspec": {
   "display_name": "Python 3",
   "language": "python",
   "name": "python3"
  },
  "language_info": {
   "codemirror_mode": {
    "name": "ipython",
    "version": 3
   },
   "file_extension": ".py",
   "mimetype": "text/x-python",
   "name": "python",
   "nbconvert_exporter": "python",
   "pygments_lexer": "ipython3",
   "version": "3.8.5"
  }
 },
 "nbformat": 4,
 "nbformat_minor": 4
}
